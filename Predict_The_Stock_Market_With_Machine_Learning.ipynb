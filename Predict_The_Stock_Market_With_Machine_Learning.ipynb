{
  "cells": [
    {
      "cell_type": "markdown",
      "id": "f873a733",
      "metadata": {
        "id": "f873a733"
      },
      "source": [
        "<div class=\"title\"> Predict The Stock Market With Machine Learning</div>"
      ]
    },
    {
      "cell_type": "code",
      "execution_count": null,
      "id": "a26590c4",
      "metadata": {
        "id": "a26590c4",
        "outputId": "15230599-ef1b-4df5-d06e-ff3ad2eaa202"
      },
      "outputs": [
        {
          "data": {
            "text/html": [
              "<style>\n",
              "\n",
              ".title{\n",
              "  font-size:40px;\n",
              "  font-weight:bold;\n",
              "  font-family:arial;\n",
              "  padding-top:15px;\n",
              "  padding-bottom:15px;\n",
              "}\n",
              "\n",
              ".p{\n",
              "  font-size:15px;\n",
              "  font-weight:bold;\n",
              "  line-height: 180%;\n",
              "}\n",
              "\n",
              "\n",
              "</style>"
            ],
            "text/plain": [
              "<IPython.core.display.HTML object>"
            ]
          },
          "execution_count": 30,
          "metadata": {},
          "output_type": "execute_result"
        }
      ],
      "source": [
        "from IPython.core.display import HTML\n",
        "\n",
        "HTML(\"\"\"<style>\n",
        "\n",
        ".title{\n",
        "  font-size:40px;\n",
        "  font-weight:bold;\n",
        "  font-family:arial;\n",
        "  padding-top:15px;\n",
        "  padding-bottom:15px;\n",
        "}\n",
        "\n",
        ".p{\n",
        "  font-size:15px;\n",
        "  font-weight:bold;\n",
        "  line-height: 180%;\n",
        "}\n",
        "\n",
        "\n",
        "</style>\"\"\")"
      ]
    },
    {
      "cell_type": "code",
      "execution_count": null,
      "id": "6d21122a",
      "metadata": {
        "id": "6d21122a"
      },
      "outputs": [],
      "source": [
        "import datetime as dt\n",
        "import numpy as np\n",
        "import pandas as pd\n",
        "import matplotlib.pyplot as plt\n",
        "import seaborn as sns\n",
        "%matplotlib inline\n",
        "sns.set_style(\"white\")\n",
        "sns.set_context(\"notebook\")\n",
        "## sns.set_theme()\n",
        "\n",
        "import yfinance as yf"
      ]
    },
    {
      "cell_type": "markdown",
      "id": "86f95d53",
      "metadata": {
        "id": "86f95d53"
      },
      "source": [
        "<h1>Introduction</h1>"
      ]
    },
    {
      "cell_type": "markdown",
      "id": "b415daaf",
      "metadata": {
        "id": "b415daaf"
      },
      "source": [
        "Dataset為標普500的股價歷史記錄，每列為不包含六、日及股巿休巿日的每日股價歷記錄，包含\"Date\"index以及以下欄位：\n",
        "\n",
        "- Open\n",
        "- High\n",
        "- Low\n",
        "- Close\n",
        "- Volume\n",
        "\n",
        "我們想利用這些欄位來預測股價隔日的漲跌。\n",
        "\n",
        "Source: [Predict The Stock Market With Machine Learning Project Tutorial](https://www.youtube.com/watch?v=1O_BenficgE&ab_channel=Dataquest)"
      ]
    },
    {
      "cell_type": "markdown",
      "id": "a7ea502f",
      "metadata": {
        "id": "a7ea502f"
      },
      "source": [
        "<h1>Import Dataset</h1>"
      ]
    },
    {
      "cell_type": "code",
      "execution_count": null,
      "id": "809c1978",
      "metadata": {
        "id": "809c1978",
        "outputId": "decae57f-12ef-42eb-d70d-692d1e08916d"
      },
      "outputs": [
        {
          "data": {
            "text/html": [
              "<div>\n",
              "<style scoped>\n",
              "    .dataframe tbody tr th:only-of-type {\n",
              "        vertical-align: middle;\n",
              "    }\n",
              "\n",
              "    .dataframe tbody tr th {\n",
              "        vertical-align: top;\n",
              "    }\n",
              "\n",
              "    .dataframe thead th {\n",
              "        text-align: right;\n",
              "    }\n",
              "</style>\n",
              "<table border=\"1\" class=\"dataframe\">\n",
              "  <thead>\n",
              "    <tr style=\"text-align: right;\">\n",
              "      <th></th>\n",
              "      <th>Open</th>\n",
              "      <th>High</th>\n",
              "      <th>Low</th>\n",
              "      <th>Close</th>\n",
              "      <th>Volume</th>\n",
              "      <th>Dividends</th>\n",
              "      <th>Stock Splits</th>\n",
              "    </tr>\n",
              "    <tr>\n",
              "      <th>Date</th>\n",
              "      <th></th>\n",
              "      <th></th>\n",
              "      <th></th>\n",
              "      <th></th>\n",
              "      <th></th>\n",
              "      <th></th>\n",
              "      <th></th>\n",
              "    </tr>\n",
              "  </thead>\n",
              "  <tbody>\n",
              "    <tr>\n",
              "      <th>1950-01-03</th>\n",
              "      <td>16.66</td>\n",
              "      <td>16.66</td>\n",
              "      <td>16.66</td>\n",
              "      <td>16.66</td>\n",
              "      <td>1260000</td>\n",
              "      <td>0</td>\n",
              "      <td>0</td>\n",
              "    </tr>\n",
              "    <tr>\n",
              "      <th>1950-01-04</th>\n",
              "      <td>16.85</td>\n",
              "      <td>16.85</td>\n",
              "      <td>16.85</td>\n",
              "      <td>16.85</td>\n",
              "      <td>1890000</td>\n",
              "      <td>0</td>\n",
              "      <td>0</td>\n",
              "    </tr>\n",
              "  </tbody>\n",
              "</table>\n",
              "</div>"
            ],
            "text/plain": [
              "             Open   High    Low  Close   Volume  Dividends  Stock Splits\n",
              "Date                                                                    \n",
              "1950-01-03  16.66  16.66  16.66  16.66  1260000          0             0\n",
              "1950-01-04  16.85  16.85  16.85  16.85  1890000          0             0"
            ]
          },
          "metadata": {},
          "output_type": "display_data"
        },
        {
          "data": {
            "text/html": [
              "<div>\n",
              "<style scoped>\n",
              "    .dataframe tbody tr th:only-of-type {\n",
              "        vertical-align: middle;\n",
              "    }\n",
              "\n",
              "    .dataframe tbody tr th {\n",
              "        vertical-align: top;\n",
              "    }\n",
              "\n",
              "    .dataframe thead th {\n",
              "        text-align: right;\n",
              "    }\n",
              "</style>\n",
              "<table border=\"1\" class=\"dataframe\">\n",
              "  <thead>\n",
              "    <tr style=\"text-align: right;\">\n",
              "      <th></th>\n",
              "      <th>Open</th>\n",
              "      <th>High</th>\n",
              "      <th>Low</th>\n",
              "      <th>Close</th>\n",
              "      <th>Volume</th>\n",
              "      <th>Dividends</th>\n",
              "      <th>Stock Splits</th>\n",
              "    </tr>\n",
              "    <tr>\n",
              "      <th>Date</th>\n",
              "      <th></th>\n",
              "      <th></th>\n",
              "      <th></th>\n",
              "      <th></th>\n",
              "      <th></th>\n",
              "      <th></th>\n",
              "      <th></th>\n",
              "    </tr>\n",
              "  </thead>\n",
              "  <tbody>\n",
              "    <tr>\n",
              "      <th>2022-08-29</th>\n",
              "      <td>4034.580078</td>\n",
              "      <td>4062.98999</td>\n",
              "      <td>4017.419922</td>\n",
              "      <td>4030.610107</td>\n",
              "      <td>2963020000</td>\n",
              "      <td>0</td>\n",
              "      <td>0</td>\n",
              "    </tr>\n",
              "    <tr>\n",
              "      <th>2022-08-30</th>\n",
              "      <td>4041.250000</td>\n",
              "      <td>4044.97998</td>\n",
              "      <td>3965.209961</td>\n",
              "      <td>3986.159912</td>\n",
              "      <td>2080875000</td>\n",
              "      <td>0</td>\n",
              "      <td>0</td>\n",
              "    </tr>\n",
              "  </tbody>\n",
              "</table>\n",
              "</div>"
            ],
            "text/plain": [
              "                   Open        High          Low        Close      Volume  \\\n",
              "Date                                                                        \n",
              "2022-08-29  4034.580078  4062.98999  4017.419922  4030.610107  2963020000   \n",
              "2022-08-30  4041.250000  4044.97998  3965.209961  3986.159912  2080875000   \n",
              "\n",
              "            Dividends  Stock Splits  \n",
              "Date                                 \n",
              "2022-08-29          0             0  \n",
              "2022-08-30          0             0  "
            ]
          },
          "execution_count": 3,
          "metadata": {},
          "output_type": "execute_result"
        }
      ],
      "source": [
        "sp500 = yf.Ticker(\"^GSPC\")\n",
        "sp500 = sp500.history(period=\"max\")\n",
        "display(sp500.head(2))\n",
        "sp500.tail(2)"
      ]
    },
    {
      "cell_type": "code",
      "execution_count": null,
      "id": "dd99c290",
      "metadata": {
        "id": "dd99c290",
        "outputId": "0cc6b95e-ae51-47b8-cbe5-017205b58513"
      },
      "outputs": [
        {
          "data": {
            "text/plain": [
              "pandas.core.indexes.datetimes.DatetimeIndex"
            ]
          },
          "execution_count": 18,
          "metadata": {},
          "output_type": "execute_result"
        }
      ],
      "source": [
        "type(sp500.index)  ## 可看到index為datatime obj"
      ]
    },
    {
      "cell_type": "markdown",
      "id": "b5a6383a",
      "metadata": {
        "id": "b5a6383a"
      },
      "source": [
        "<h1>Cleaning and Visualizing Data</h1>"
      ]
    },
    {
      "cell_type": "code",
      "execution_count": null,
      "id": "017a1d7e",
      "metadata": {
        "id": "017a1d7e",
        "outputId": "61630df1-cefe-4545-b179-bc16769b844d"
      },
      "outputs": [
        {
          "data": {
            "text/plain": [
              "<AxesSubplot:xlabel='Date'>"
            ]
          },
          "execution_count": 20,
          "metadata": {},
          "output_type": "execute_result"
        },
        {
          "data": {
            "image/png": "[encoded data removed]",
            "text/plain": [
              "<Figure size 432x288 with 1 Axes>"
            ]
          },
          "metadata": {},
          "output_type": "display_data"
        }
      ],
      "source": [
        "sp500.plot.line(y=\"Close\", use_index=True)"
      ]
    },
    {
      "cell_type": "code",
      "execution_count": null,
      "id": "e2ae32f8",
      "metadata": {
        "id": "e2ae32f8"
      },
      "outputs": [],
      "source": [
        "## 移除不需要的欄位\n",
        "sp500 = sp500.drop([\"Dividends\", \"Stock Splits\"], axis=1)"
      ]
    },
    {
      "cell_type": "markdown",
      "id": "cdef6c40",
      "metadata": {
        "id": "cdef6c40"
      },
      "source": [
        "<h2>Setting our target</h2>\n",
        "\n",
        "<div class=\"p\">\n",
        "    \n",
        "    我們的目標是預測未來一日的漲跌，而非股價。因為相比於精準的預測股價，我們更在意的是股價波動的方向，依此來做為買賣依據。如果target為精準的預測股價，你可能可較精準的預測數字，但損失了對方向預測的準確度。\n",
        "    因此我們想預測的是在股價上漲的日子，我們可否正確的預測了它們的上漲，進而可依此做為買賣依據。\n",
        "    - Target:股價是上漲或下跌\n",
        "</div>\n"
      ]
    },
    {
      "cell_type": "code",
      "execution_count": null,
      "id": "d270edb5",
      "metadata": {
        "id": "d270edb5",
        "outputId": "42902820-ad7b-40e1-c698-aba13d9cdf05"
      },
      "outputs": [
        {
          "data": {
            "text/html": [
              "<div>\n",
              "<style scoped>\n",
              "    .dataframe tbody tr th:only-of-type {\n",
              "        vertical-align: middle;\n",
              "    }\n",
              "\n",
              "    .dataframe tbody tr th {\n",
              "        vertical-align: top;\n",
              "    }\n",
              "\n",
              "    .dataframe thead th {\n",
              "        text-align: right;\n",
              "    }\n",
              "</style>\n",
              "<table border=\"1\" class=\"dataframe\">\n",
              "  <thead>\n",
              "    <tr style=\"text-align: right;\">\n",
              "      <th></th>\n",
              "      <th>Open</th>\n",
              "      <th>High</th>\n",
              "      <th>Low</th>\n",
              "      <th>Close</th>\n",
              "      <th>Volume</th>\n",
              "      <th>tomorrow</th>\n",
              "      <th>Target</th>\n",
              "    </tr>\n",
              "    <tr>\n",
              "      <th>Date</th>\n",
              "      <th></th>\n",
              "      <th></th>\n",
              "      <th></th>\n",
              "      <th></th>\n",
              "      <th></th>\n",
              "      <th></th>\n",
              "      <th></th>\n",
              "    </tr>\n",
              "  </thead>\n",
              "  <tbody>\n",
              "    <tr>\n",
              "      <th>1990-01-02</th>\n",
              "      <td>353.399994</td>\n",
              "      <td>359.690002</td>\n",
              "      <td>351.980011</td>\n",
              "      <td>359.690002</td>\n",
              "      <td>162070000</td>\n",
              "      <td>358.760010</td>\n",
              "      <td>0</td>\n",
              "    </tr>\n",
              "    <tr>\n",
              "      <th>1990-01-03</th>\n",
              "      <td>359.690002</td>\n",
              "      <td>360.589996</td>\n",
              "      <td>357.890015</td>\n",
              "      <td>358.760010</td>\n",
              "      <td>192330000</td>\n",
              "      <td>355.670013</td>\n",
              "      <td>0</td>\n",
              "    </tr>\n",
              "    <tr>\n",
              "      <th>1990-01-04</th>\n",
              "      <td>358.760010</td>\n",
              "      <td>358.760010</td>\n",
              "      <td>352.890015</td>\n",
              "      <td>355.670013</td>\n",
              "      <td>177000000</td>\n",
              "      <td>352.200012</td>\n",
              "      <td>0</td>\n",
              "    </tr>\n",
              "    <tr>\n",
              "      <th>1990-01-05</th>\n",
              "      <td>355.670013</td>\n",
              "      <td>355.670013</td>\n",
              "      <td>351.350006</td>\n",
              "      <td>352.200012</td>\n",
              "      <td>158530000</td>\n",
              "      <td>353.790009</td>\n",
              "      <td>1</td>\n",
              "    </tr>\n",
              "    <tr>\n",
              "      <th>1990-01-08</th>\n",
              "      <td>352.200012</td>\n",
              "      <td>354.239990</td>\n",
              "      <td>350.540009</td>\n",
              "      <td>353.790009</td>\n",
              "      <td>140110000</td>\n",
              "      <td>349.619995</td>\n",
              "      <td>0</td>\n",
              "    </tr>\n",
              "  </tbody>\n",
              "</table>\n",
              "</div>"
            ],
            "text/plain": [
              "                  Open        High         Low       Close     Volume  \\\n",
              "Date                                                                    \n",
              "1990-01-02  353.399994  359.690002  351.980011  359.690002  162070000   \n",
              "1990-01-03  359.690002  360.589996  357.890015  358.760010  192330000   \n",
              "1990-01-04  358.760010  358.760010  352.890015  355.670013  177000000   \n",
              "1990-01-05  355.670013  355.670013  351.350006  352.200012  158530000   \n",
              "1990-01-08  352.200012  354.239990  350.540009  353.790009  140110000   \n",
              "\n",
              "              tomorrow  Target  \n",
              "Date                            \n",
              "1990-01-02  358.760010       0  \n",
              "1990-01-03  355.670013       0  \n",
              "1990-01-04  352.200012       0  \n",
              "1990-01-05  353.790009       1  \n",
              "1990-01-08  349.619995       0  "
            ]
          },
          "execution_count": 56,
          "metadata": {},
          "output_type": "execute_result"
        }
      ],
      "source": [
        "## 新增tomorrow欄\n",
        "sp500[\"tomorrow\"] = sp500[\"Close\"].shift(-1)  ## 後一天的價格，-1表整欄相對於index往上挪一列\n",
        "\n",
        "## 新增Target欄\n",
        "sp500[\"Target\"] = (sp500[\"tomorrow\"] > sp500[\"Close\"]).astype(int)\n",
        "\n",
        "## 移除1990前的data\n",
        "sp500 = sp500.loc[ \"1990-01-01\": ].copy()\n",
        "sp500.head()"
      ]
    },
    {
      "cell_type": "markdown",
      "id": "6369be1e",
      "metadata": {
        "id": "6369be1e"
      },
      "source": [
        "<h1> Base Model Training</h1>"
      ]
    },
    {
      "cell_type": "markdown",
      "id": "ffb6d5ee",
      "metadata": {
        "id": "ffb6d5ee"
      },
      "source": [
        "RandomForest優點:\n",
        "1. 因為其以randomised parameter去train一堆樹，取其平均，故相對不容易overfit\n",
        "2. run relatively quickly\n",
        "3. 可pick up數據集中的non-linear tendency。ex:open price與target不具linear relationship\n",
        "\n",
        "- 設置random_state是為了確保model的改善是因為你做的某些改變，而非因randomness。\n",
        "- time series data不能使用cv，因為cv無法將time series data的特性take into account，cv會造成你用future data來predict past，但real world中這是不可能的，這形成了data leakage，即leak了某些info給model，這使你可train極佳的accuracy，但在real world表現很差。\n",
        "- 因此，train set取最新100列以前的列\n",
        "- precision score很重要:因為我們希望當我們預測上漲的時候，它真的上漲"
      ]
    },
    {
      "cell_type": "code",
      "execution_count": null,
      "id": "cb0a49e8",
      "metadata": {
        "id": "cb0a49e8",
        "outputId": "588fccbb-04f0-47f4-f650-10f0f811b6ae"
      },
      "outputs": [
        {
          "name": "stdout",
          "output_type": "stream",
          "text": [
            "(8230, 7)\n"
          ]
        }
      ],
      "source": [
        "## Train a initial model\n",
        "from sklearn.ensemble import RandomForestClassifier \n",
        "print(sp500.shape)"
      ]
    },
    {
      "cell_type": "code",
      "execution_count": null,
      "id": "9f3c2832",
      "metadata": {
        "id": "9f3c2832",
        "outputId": "17be9446-8cc8-448f-bd62-eb7ed3adbe54"
      },
      "outputs": [
        {
          "data": {
            "text/plain": [
              "RandomForestClassifier(min_samples_split=100, random_state=1)"
            ]
          },
          "execution_count": 66,
          "metadata": {},
          "output_type": "execute_result"
        }
      ],
      "source": [
        "model = RandomForestClassifier(n_estimators=100, min_samples_split=100, random_state=1)\n",
        "train = sp500.iloc[:-100]\n",
        "test = sp500.iloc[-100:]\n",
        "\n",
        "predictors = ['Open', 'High', 'Low', 'Close', 'Volume']\n",
        "model.fit(train[predictors], train[\"Target\"])"
      ]
    },
    {
      "cell_type": "code",
      "execution_count": null,
      "id": "87650e89",
      "metadata": {
        "id": "87650e89",
        "outputId": "4ce95b21-34e8-4a24-f06c-4c8712763603"
      },
      "outputs": [
        {
          "name": "stdout",
          "output_type": "stream",
          "text": [
            "0.48717948717948717\n",
            "              precision    recall  f1-score   support\n",
            "\n",
            "           0       0.73      0.29      0.41        56\n",
            "           1       0.49      0.86      0.62        44\n",
            "\n",
            "    accuracy                           0.54       100\n",
            "   macro avg       0.61      0.57      0.52       100\n",
            "weighted avg       0.62      0.54      0.50       100\n",
            "\n"
          ]
        }
      ],
      "source": [
        "## measure model accuracy\n",
        "from sklearn.metrics import classification_report, precision_score\n",
        "\n",
        "## predict回傳的是numpy array，因此轉為series較易處理\n",
        "preds = pd.Series(model.predict(test[predictors]), index=test.index)  \n",
        "preds\n",
        "\n",
        "print(precision_score(test[\"Target\"], preds))\n",
        "print(classification_report(test[\"Target\"], preds))"
      ]
    },
    {
      "cell_type": "code",
      "execution_count": null,
      "id": "1005f10e",
      "metadata": {
        "id": "1005f10e",
        "outputId": "7e68f4af-a8e1-4394-ea2b-61308dfb265a"
      },
      "outputs": [
        {
          "data": {
            "text/plain": [
              "<AxesSubplot:xlabel='Date'>"
            ]
          },
          "execution_count": 78,
          "metadata": {},
          "output_type": "execute_result"
        },
        {
          "data": {
            "image/png": "[encoded data removed]",
            "text/plain": [
              "<Figure size 432x288 with 1 Axes>"
            ]
          },
          "metadata": {},
          "output_type": "display_data"
        }
      ],
      "source": [
        "## make a plot\n",
        "combined = pd.concat([test[\"Target\"], preds], axis=1)\n",
        "combined.plot()"
      ]
    },
    {
      "cell_type": "markdown",
      "id": "75ada8b4",
      "metadata": {
        "id": "75ada8b4"
      },
      "source": [
        "<h1>Build a Backtesting System</h1>"
      ]
    },
    {
      "cell_type": "markdown",
      "id": "27338708",
      "metadata": {
        "id": "27338708"
      },
      "source": [
        "目前我們的model只train了最後100天，但我們需要一個更robust的testing system。我們也想test across不同年份，因為想知道model如何去handle很多不同的situation，這使你有更多可有效預測未來的信心。因此我們需要Backtesting。"
      ]
    },
    {
      "cell_type": "code",
      "execution_count": null,
      "id": "edc66568",
      "metadata": {
        "id": "edc66568"
      },
      "outputs": [],
      "source": [
        "## 製一prediction function:\n",
        "def predict(train, test, predictors, model):\n",
        "    model.fit(train[predictors], train[\"Target\"])\n",
        "    preds = model.predict(test[predictors])\n",
        "    preds = pd.Series(preds, index=test.index, name=\"Predictions\")\n",
        "    combined = pd.concat([test[\"Target\"], preds], axis=1)\n",
        "    return combined"
      ]
    },
    {
      "cell_type": "markdown",
      "id": "ed324c40",
      "metadata": {
        "id": "ed324c40"
      },
      "source": [
        "- 1年的交易日約250日\n",
        "- 前10年:2500日，取前10年的資來來預測下1年\n",
        "  - 前10預測11\n",
        "  - 前11預測12\n",
        "  - 前12預測13 依此類推\n",
        "- 因此我們可得到多個年份的prediction data"
      ]
    },
    {
      "cell_type": "code",
      "execution_count": null,
      "id": "6a8297cc",
      "metadata": {
        "id": "6a8297cc",
        "outputId": "68f5358b-4582-4972-f1f1-4a93d048b47e"
      },
      "outputs": [
        {
          "name": "stdout",
          "output_type": "stream",
          "text": [
            "(7979, 17)\n",
            "22 [2500, 2750, 3000, 3250, 3500, 3750, 4000, 4250, 4500, 4750, 5000, 5250, 5500, 5750, 6000, 6250, 6500, 6750, 7000, 7250, 7500, 7750]\n"
          ]
        }
      ],
      "source": [
        "print(sp500.shape)\n",
        "ls = [ i for i in range(2500, sp500.shape[0], 250)]\n",
        "print(len(ls), ls)"
      ]
    },
    {
      "cell_type": "code",
      "execution_count": null,
      "id": "765515b2",
      "metadata": {
        "id": "765515b2"
      },
      "outputs": [],
      "source": [
        "def backtest(data, model, predictors, start=2500, step=250):\n",
        "    all_predictions = []\n",
        "    for i in range(start, data.shape[0], step):\n",
        "        train = data.iloc[:i].copy()\n",
        "        test = data.iloc[i:(i+step)].copy()\n",
        "        predictions = predict(train, test, predictors, model)\n",
        "        all_predictions.append(predictions)\n",
        "    return pd.concat(all_predictions, axis=0)"
      ]
    },
    {
      "cell_type": "code",
      "execution_count": null,
      "id": "66959bc4",
      "metadata": {
        "id": "66959bc4"
      },
      "outputs": [],
      "source": [
        "predictions = backtest(sp500, model, predictors)"
      ]
    },
    {
      "cell_type": "code",
      "execution_count": null,
      "id": "c4bb7c9d",
      "metadata": {
        "id": "c4bb7c9d",
        "outputId": "141ba20d-b362-4c4a-ab41-f6f8dcf7c6d4"
      },
      "outputs": [
        {
          "data": {
            "text/plain": [
              "0    3311\n",
              "1    2419\n",
              "Name: Predictions, dtype: int64"
            ]
          },
          "execution_count": 84,
          "metadata": {},
          "output_type": "execute_result"
        }
      ],
      "source": [
        "predictions[\"Predictions\"].value_counts()"
      ]
    },
    {
      "cell_type": "code",
      "execution_count": null,
      "id": "45d1ebec",
      "metadata": {
        "id": "45d1ebec",
        "outputId": "d0634cf7-5d81-4df2-ec85-53fd416cfef7"
      },
      "outputs": [
        {
          "data": {
            "text/plain": [
              "0.5295576684580405"
            ]
          },
          "execution_count": 89,
          "metadata": {},
          "output_type": "execute_result"
        }
      ],
      "source": [
        "## 預測上漲時，真正上漲的佔比\n",
        "precision_score(predictions['Target'], predictions['Predictions'])"
      ]
    },
    {
      "cell_type": "code",
      "execution_count": null,
      "id": "d61c51c0",
      "metadata": {
        "id": "d61c51c0"
      },
      "outputs": [],
      "source": [
        "## Target value的實際比例\n",
        "predictions['Target'].value_counts()/ predictions.shape[0]"
      ]
    },
    {
      "cell_type": "markdown",
      "id": "1b96ff84",
      "metadata": {
        "id": "1b96ff84"
      },
      "source": [
        "此algorithm沒有比\"預測每天都上漲\"來的好。但因我們己建立了backtesting，因此對我們的model有更多的信心。"
      ]
    },
    {
      "cell_type": "markdown",
      "id": "e2c89cf0",
      "metadata": {
        "id": "e2c89cf0"
      },
      "source": [
        "<h1>Adding Additional Predictors to Model</h1>"
      ]
    },
    {
      "cell_type": "markdown",
      "id": "d942a4d7",
      "metadata": {
        "id": "d942a4d7"
      },
      "source": [
        "- create一些moving average"
      ]
    },
    {
      "cell_type": "code",
      "execution_count": null,
      "id": "320d3adb",
      "metadata": {
        "id": "320d3adb"
      },
      "outputs": [],
      "source": [
        "horizons = [5,20,60,120,250]  ## 週、月、季、年等的移動平均\n",
        "new_predictors = []\n",
        "\n",
        "for n_days in horizons:\n",
        "    rolling_avgs = sp500[\"Close\"].rolling(n_days).mean()\n",
        "    \n",
        "    ratio_name = f\"Close_Ratio_{n_days}\"\n",
        "    sp500[ratio_name] = sp500[\"Close\"] / rolling_avgs  ## 取當日close與移動平均的比例 (肉眼易見price與ma差，但電腦不知)\n",
        "    \n",
        "    trend_name = f\"Trend_{n_days}\"\n",
        "    sp500[trend_name] = sp500['Target'].shift(1).rolling(n_days).sum() \n",
        "    ## 取當日的前N日的上漲天數總合,shift1不算入當日的漲跌,若未shift會用到當天的Target，導致leakage\n",
        "    \n",
        "    new_predictors += [ratio_name, trend_name]"
      ]
    },
    {
      "cell_type": "code",
      "execution_count": null,
      "id": "11b2ed61",
      "metadata": {
        "id": "11b2ed61",
        "outputId": "05fde1b1-08df-4eea-be5f-c2632100b094"
      },
      "outputs": [
        {
          "data": {
            "text/plain": [
              "['Close_Ratio_5',\n",
              " 'Trend_5',\n",
              " 'Close_Ratio_20',\n",
              " 'Trend_20',\n",
              " 'Close_Ratio_60',\n",
              " 'Trend_60',\n",
              " 'Close_Ratio_120',\n",
              " 'Trend_120',\n",
              " 'Close_Ratio_250',\n",
              " 'Trend_250']"
            ]
          },
          "execution_count": 96,
          "metadata": {},
          "output_type": "execute_result"
        }
      ],
      "source": [
        "new_predictors"
      ]
    },
    {
      "cell_type": "code",
      "execution_count": null,
      "id": "25beab27",
      "metadata": {
        "id": "25beab27",
        "outputId": "ddf785b8-63d7-4c08-dd88-3e052befc6de"
      },
      "outputs": [
        {
          "data": {
            "text/html": [
              "<div>\n",
              "<style scoped>\n",
              "    .dataframe tbody tr th:only-of-type {\n",
              "        vertical-align: middle;\n",
              "    }\n",
              "\n",
              "    .dataframe tbody tr th {\n",
              "        vertical-align: top;\n",
              "    }\n",
              "\n",
              "    .dataframe thead th {\n",
              "        text-align: right;\n",
              "    }\n",
              "</style>\n",
              "<table border=\"1\" class=\"dataframe\">\n",
              "  <thead>\n",
              "    <tr style=\"text-align: right;\">\n",
              "      <th></th>\n",
              "      <th>Open</th>\n",
              "      <th>High</th>\n",
              "      <th>Low</th>\n",
              "      <th>Close</th>\n",
              "      <th>Volume</th>\n",
              "      <th>tomorrow</th>\n",
              "      <th>Target</th>\n",
              "      <th>Close_Ratio_5</th>\n",
              "      <th>Trend_5</th>\n",
              "      <th>Close_Ratio_20</th>\n",
              "      <th>Trend_20</th>\n",
              "      <th>Close_Ratio_60</th>\n",
              "      <th>Trend_60</th>\n",
              "      <th>Close_Ratio_120</th>\n",
              "      <th>Trend_120</th>\n",
              "      <th>Close_Ratio_250</th>\n",
              "      <th>Trend_250</th>\n",
              "    </tr>\n",
              "    <tr>\n",
              "      <th>Date</th>\n",
              "      <th></th>\n",
              "      <th></th>\n",
              "      <th></th>\n",
              "      <th></th>\n",
              "      <th></th>\n",
              "      <th></th>\n",
              "      <th></th>\n",
              "      <th></th>\n",
              "      <th></th>\n",
              "      <th></th>\n",
              "      <th></th>\n",
              "      <th></th>\n",
              "      <th></th>\n",
              "      <th></th>\n",
              "      <th></th>\n",
              "      <th></th>\n",
              "      <th></th>\n",
              "    </tr>\n",
              "  </thead>\n",
              "  <tbody>\n",
              "    <tr>\n",
              "      <th>1990-01-02</th>\n",
              "      <td>353.399994</td>\n",
              "      <td>359.690002</td>\n",
              "      <td>351.980011</td>\n",
              "      <td>359.690002</td>\n",
              "      <td>162070000</td>\n",
              "      <td>358.760010</td>\n",
              "      <td>0</td>\n",
              "      <td>NaN</td>\n",
              "      <td>NaN</td>\n",
              "      <td>NaN</td>\n",
              "      <td>NaN</td>\n",
              "      <td>NaN</td>\n",
              "      <td>NaN</td>\n",
              "      <td>NaN</td>\n",
              "      <td>NaN</td>\n",
              "      <td>NaN</td>\n",
              "      <td>NaN</td>\n",
              "    </tr>\n",
              "    <tr>\n",
              "      <th>1990-01-03</th>\n",
              "      <td>359.690002</td>\n",
              "      <td>360.589996</td>\n",
              "      <td>357.890015</td>\n",
              "      <td>358.760010</td>\n",
              "      <td>192330000</td>\n",
              "      <td>355.670013</td>\n",
              "      <td>0</td>\n",
              "      <td>NaN</td>\n",
              "      <td>NaN</td>\n",
              "      <td>NaN</td>\n",
              "      <td>NaN</td>\n",
              "      <td>NaN</td>\n",
              "      <td>NaN</td>\n",
              "      <td>NaN</td>\n",
              "      <td>NaN</td>\n",
              "      <td>NaN</td>\n",
              "      <td>NaN</td>\n",
              "    </tr>\n",
              "    <tr>\n",
              "      <th>1990-01-04</th>\n",
              "      <td>358.760010</td>\n",
              "      <td>358.760010</td>\n",
              "      <td>352.890015</td>\n",
              "      <td>355.670013</td>\n",
              "      <td>177000000</td>\n",
              "      <td>352.200012</td>\n",
              "      <td>0</td>\n",
              "      <td>NaN</td>\n",
              "      <td>NaN</td>\n",
              "      <td>NaN</td>\n",
              "      <td>NaN</td>\n",
              "      <td>NaN</td>\n",
              "      <td>NaN</td>\n",
              "      <td>NaN</td>\n",
              "      <td>NaN</td>\n",
              "      <td>NaN</td>\n",
              "      <td>NaN</td>\n",
              "    </tr>\n",
              "    <tr>\n",
              "      <th>1990-01-05</th>\n",
              "      <td>355.670013</td>\n",
              "      <td>355.670013</td>\n",
              "      <td>351.350006</td>\n",
              "      <td>352.200012</td>\n",
              "      <td>158530000</td>\n",
              "      <td>353.790009</td>\n",
              "      <td>1</td>\n",
              "      <td>NaN</td>\n",
              "      <td>NaN</td>\n",
              "      <td>NaN</td>\n",
              "      <td>NaN</td>\n",
              "      <td>NaN</td>\n",
              "      <td>NaN</td>\n",
              "      <td>NaN</td>\n",
              "      <td>NaN</td>\n",
              "      <td>NaN</td>\n",
              "      <td>NaN</td>\n",
              "    </tr>\n",
              "    <tr>\n",
              "      <th>1990-01-08</th>\n",
              "      <td>352.200012</td>\n",
              "      <td>354.239990</td>\n",
              "      <td>350.540009</td>\n",
              "      <td>353.790009</td>\n",
              "      <td>140110000</td>\n",
              "      <td>349.619995</td>\n",
              "      <td>0</td>\n",
              "      <td>0.993731</td>\n",
              "      <td>NaN</td>\n",
              "      <td>NaN</td>\n",
              "      <td>NaN</td>\n",
              "      <td>NaN</td>\n",
              "      <td>NaN</td>\n",
              "      <td>NaN</td>\n",
              "      <td>NaN</td>\n",
              "      <td>NaN</td>\n",
              "      <td>NaN</td>\n",
              "    </tr>\n",
              "    <tr>\n",
              "      <th>...</th>\n",
              "      <td>...</td>\n",
              "      <td>...</td>\n",
              "      <td>...</td>\n",
              "      <td>...</td>\n",
              "      <td>...</td>\n",
              "      <td>...</td>\n",
              "      <td>...</td>\n",
              "      <td>...</td>\n",
              "      <td>...</td>\n",
              "      <td>...</td>\n",
              "      <td>...</td>\n",
              "      <td>...</td>\n",
              "      <td>...</td>\n",
              "      <td>...</td>\n",
              "      <td>...</td>\n",
              "      <td>...</td>\n",
              "      <td>...</td>\n",
              "    </tr>\n",
              "    <tr>\n",
              "      <th>2022-08-24</th>\n",
              "      <td>4126.549805</td>\n",
              "      <td>4156.560059</td>\n",
              "      <td>4119.970215</td>\n",
              "      <td>4140.770020</td>\n",
              "      <td>3056910000</td>\n",
              "      <td>4199.120117</td>\n",
              "      <td>1</td>\n",
              "      <td>0.989681</td>\n",
              "      <td>2.0</td>\n",
              "      <td>0.990365</td>\n",
              "      <td>9.0</td>\n",
              "      <td>1.036648</td>\n",
              "      <td>27.0</td>\n",
              "      <td>1.001502</td>\n",
              "      <td>56.0</td>\n",
              "      <td>0.952851</td>\n",
              "      <td>122.0</td>\n",
              "    </tr>\n",
              "    <tr>\n",
              "      <th>2022-08-25</th>\n",
              "      <td>4153.259766</td>\n",
              "      <td>4200.540039</td>\n",
              "      <td>4147.589844</td>\n",
              "      <td>4199.120117</td>\n",
              "      <td>2976050000</td>\n",
              "      <td>4057.659912</td>\n",
              "      <td>0</td>\n",
              "      <td>1.007704</td>\n",
              "      <td>2.0</td>\n",
              "      <td>1.002801</td>\n",
              "      <td>9.0</td>\n",
              "      <td>1.050962</td>\n",
              "      <td>28.0</td>\n",
              "      <td>1.015880</td>\n",
              "      <td>57.0</td>\n",
              "      <td>0.966555</td>\n",
              "      <td>122.0</td>\n",
              "    </tr>\n",
              "    <tr>\n",
              "      <th>2022-08-26</th>\n",
              "      <td>4198.740234</td>\n",
              "      <td>4203.040039</td>\n",
              "      <td>4057.659912</td>\n",
              "      <td>4057.659912</td>\n",
              "      <td>3175260000</td>\n",
              "      <td>4030.610107</td>\n",
              "      <td>0</td>\n",
              "      <td>0.981806</td>\n",
              "      <td>2.0</td>\n",
              "      <td>0.969860</td>\n",
              "      <td>8.0</td>\n",
              "      <td>1.015742</td>\n",
              "      <td>28.0</td>\n",
              "      <td>0.981941</td>\n",
              "      <td>57.0</td>\n",
              "      <td>0.934398</td>\n",
              "      <td>121.0</td>\n",
              "    </tr>\n",
              "    <tr>\n",
              "      <th>2022-08-29</th>\n",
              "      <td>4034.580078</td>\n",
              "      <td>4062.989990</td>\n",
              "      <td>4017.419922</td>\n",
              "      <td>4030.610107</td>\n",
              "      <td>2963020000</td>\n",
              "      <td>3986.159912</td>\n",
              "      <td>0</td>\n",
              "      <td>0.980355</td>\n",
              "      <td>2.0</td>\n",
              "      <td>0.964409</td>\n",
              "      <td>8.0</td>\n",
              "      <td>1.009587</td>\n",
              "      <td>27.0</td>\n",
              "      <td>0.975671</td>\n",
              "      <td>57.0</td>\n",
              "      <td>0.928590</td>\n",
              "      <td>121.0</td>\n",
              "    </tr>\n",
              "    <tr>\n",
              "      <th>2022-08-30</th>\n",
              "      <td>4041.250000</td>\n",
              "      <td>4044.979980</td>\n",
              "      <td>3965.209961</td>\n",
              "      <td>3986.159912</td>\n",
              "      <td>2080875000</td>\n",
              "      <td>NaN</td>\n",
              "      <td>0</td>\n",
              "      <td>0.976315</td>\n",
              "      <td>2.0</td>\n",
              "      <td>0.954973</td>\n",
              "      <td>8.0</td>\n",
              "      <td>0.998963</td>\n",
              "      <td>27.0</td>\n",
              "      <td>0.965479</td>\n",
              "      <td>56.0</td>\n",
              "      <td>0.918805</td>\n",
              "      <td>120.0</td>\n",
              "    </tr>\n",
              "  </tbody>\n",
              "</table>\n",
              "<p>8230 rows × 17 columns</p>\n",
              "</div>"
            ],
            "text/plain": [
              "                   Open         High          Low        Close      Volume  \\\n",
              "Date                                                                         \n",
              "1990-01-02   353.399994   359.690002   351.980011   359.690002   162070000   \n",
              "1990-01-03   359.690002   360.589996   357.890015   358.760010   192330000   \n",
              "1990-01-04   358.760010   358.760010   352.890015   355.670013   177000000   \n",
              "1990-01-05   355.670013   355.670013   351.350006   352.200012   158530000   \n",
              "1990-01-08   352.200012   354.239990   350.540009   353.790009   140110000   \n",
              "...                 ...          ...          ...          ...         ...   \n",
              "2022-08-24  4126.549805  4156.560059  4119.970215  4140.770020  3056910000   \n",
              "2022-08-25  4153.259766  4200.540039  4147.589844  4199.120117  2976050000   \n",
              "2022-08-26  4198.740234  4203.040039  4057.659912  4057.659912  3175260000   \n",
              "2022-08-29  4034.580078  4062.989990  4017.419922  4030.610107  2963020000   \n",
              "2022-08-30  4041.250000  4044.979980  3965.209961  3986.159912  2080875000   \n",
              "\n",
              "               tomorrow  Target  Close_Ratio_5  Trend_5  Close_Ratio_20  \\\n",
              "Date                                                                      \n",
              "1990-01-02   358.760010       0            NaN      NaN             NaN   \n",
              "1990-01-03   355.670013       0            NaN      NaN             NaN   \n",
              "1990-01-04   352.200012       0            NaN      NaN             NaN   \n",
              "1990-01-05   353.790009       1            NaN      NaN             NaN   \n",
              "1990-01-08   349.619995       0       0.993731      NaN             NaN   \n",
              "...                 ...     ...            ...      ...             ...   \n",
              "2022-08-24  4199.120117       1       0.989681      2.0        0.990365   \n",
              "2022-08-25  4057.659912       0       1.007704      2.0        1.002801   \n",
              "2022-08-26  4030.610107       0       0.981806      2.0        0.969860   \n",
              "2022-08-29  3986.159912       0       0.980355      2.0        0.964409   \n",
              "2022-08-30          NaN       0       0.976315      2.0        0.954973   \n",
              "\n",
              "            Trend_20  Close_Ratio_60  Trend_60  Close_Ratio_120  Trend_120  \\\n",
              "Date                                                                         \n",
              "1990-01-02       NaN             NaN       NaN              NaN        NaN   \n",
              "1990-01-03       NaN             NaN       NaN              NaN        NaN   \n",
              "1990-01-04       NaN             NaN       NaN              NaN        NaN   \n",
              "1990-01-05       NaN             NaN       NaN              NaN        NaN   \n",
              "1990-01-08       NaN             NaN       NaN              NaN        NaN   \n",
              "...              ...             ...       ...              ...        ...   \n",
              "2022-08-24       9.0        1.036648      27.0         1.001502       56.0   \n",
              "2022-08-25       9.0        1.050962      28.0         1.015880       57.0   \n",
              "2022-08-26       8.0        1.015742      28.0         0.981941       57.0   \n",
              "2022-08-29       8.0        1.009587      27.0         0.975671       57.0   \n",
              "2022-08-30       8.0        0.998963      27.0         0.965479       56.0   \n",
              "\n",
              "            Close_Ratio_250  Trend_250  \n",
              "Date                                    \n",
              "1990-01-02              NaN        NaN  \n",
              "1990-01-03              NaN        NaN  \n",
              "1990-01-04              NaN        NaN  \n",
              "1990-01-05              NaN        NaN  \n",
              "1990-01-08              NaN        NaN  \n",
              "...                     ...        ...  \n",
              "2022-08-24         0.952851      122.0  \n",
              "2022-08-25         0.966555      122.0  \n",
              "2022-08-26         0.934398      121.0  \n",
              "2022-08-29         0.928590      121.0  \n",
              "2022-08-30         0.918805      120.0  \n",
              "\n",
              "[8230 rows x 17 columns]"
            ]
          },
          "execution_count": 97,
          "metadata": {},
          "output_type": "execute_result"
        }
      ],
      "source": [
        "sp500"
      ]
    },
    {
      "cell_type": "code",
      "execution_count": null,
      "id": "7101352d",
      "metadata": {
        "id": "7101352d",
        "outputId": "839ee9a6-5a22-4eec-a0f5-9abcead45dfe"
      },
      "outputs": [
        {
          "data": {
            "text/html": [
              "<div>\n",
              "<style scoped>\n",
              "    .dataframe tbody tr th:only-of-type {\n",
              "        vertical-align: middle;\n",
              "    }\n",
              "\n",
              "    .dataframe tbody tr th {\n",
              "        vertical-align: top;\n",
              "    }\n",
              "\n",
              "    .dataframe thead th {\n",
              "        text-align: right;\n",
              "    }\n",
              "</style>\n",
              "<table border=\"1\" class=\"dataframe\">\n",
              "  <thead>\n",
              "    <tr style=\"text-align: right;\">\n",
              "      <th></th>\n",
              "      <th>Open</th>\n",
              "      <th>High</th>\n",
              "      <th>Low</th>\n",
              "      <th>Close</th>\n",
              "      <th>Volume</th>\n",
              "      <th>tomorrow</th>\n",
              "      <th>Target</th>\n",
              "      <th>Close_Ratio_5</th>\n",
              "      <th>Trend_5</th>\n",
              "      <th>Close_Ratio_20</th>\n",
              "      <th>Trend_20</th>\n",
              "      <th>Close_Ratio_60</th>\n",
              "      <th>Trend_60</th>\n",
              "      <th>Close_Ratio_120</th>\n",
              "      <th>Trend_120</th>\n",
              "      <th>Close_Ratio_250</th>\n",
              "      <th>Trend_250</th>\n",
              "    </tr>\n",
              "    <tr>\n",
              "      <th>Date</th>\n",
              "      <th></th>\n",
              "      <th></th>\n",
              "      <th></th>\n",
              "      <th></th>\n",
              "      <th></th>\n",
              "      <th></th>\n",
              "      <th></th>\n",
              "      <th></th>\n",
              "      <th></th>\n",
              "      <th></th>\n",
              "      <th></th>\n",
              "      <th></th>\n",
              "      <th></th>\n",
              "      <th></th>\n",
              "      <th></th>\n",
              "      <th></th>\n",
              "      <th></th>\n",
              "    </tr>\n",
              "  </thead>\n",
              "  <tbody>\n",
              "    <tr>\n",
              "      <th>1990-12-27</th>\n",
              "      <td>330.850006</td>\n",
              "      <td>331.040009</td>\n",
              "      <td>328.230011</td>\n",
              "      <td>328.290009</td>\n",
              "      <td>102900000</td>\n",
              "      <td>328.720001</td>\n",
              "      <td>1</td>\n",
              "      <td>0.994270</td>\n",
              "      <td>2.0</td>\n",
              "      <td>1.001695</td>\n",
              "      <td>10.0</td>\n",
              "      <td>1.038297</td>\n",
              "      <td>31.0</td>\n",
              "      <td>1.010946</td>\n",
              "      <td>61.0</td>\n",
              "      <td>0.981221</td>\n",
              "      <td>132.0</td>\n",
              "    </tr>\n",
              "    <tr>\n",
              "      <th>1990-12-28</th>\n",
              "      <td>328.290009</td>\n",
              "      <td>328.720001</td>\n",
              "      <td>327.239990</td>\n",
              "      <td>328.720001</td>\n",
              "      <td>111030000</td>\n",
              "      <td>330.220001</td>\n",
              "      <td>1</td>\n",
              "      <td>0.996417</td>\n",
              "      <td>3.0</td>\n",
              "      <td>1.001128</td>\n",
              "      <td>11.0</td>\n",
              "      <td>1.038708</td>\n",
              "      <td>32.0</td>\n",
              "      <td>1.012992</td>\n",
              "      <td>62.0</td>\n",
              "      <td>0.982859</td>\n",
              "      <td>133.0</td>\n",
              "    </tr>\n",
              "    <tr>\n",
              "      <th>1990-12-31</th>\n",
              "      <td>328.709991</td>\n",
              "      <td>330.230011</td>\n",
              "      <td>327.500000</td>\n",
              "      <td>330.220001</td>\n",
              "      <td>114130000</td>\n",
              "      <td>326.450012</td>\n",
              "      <td>0</td>\n",
              "      <td>1.001893</td>\n",
              "      <td>3.0</td>\n",
              "      <td>1.004473</td>\n",
              "      <td>11.0</td>\n",
              "      <td>1.042486</td>\n",
              "      <td>32.0</td>\n",
              "      <td>1.018425</td>\n",
              "      <td>62.0</td>\n",
              "      <td>0.987644</td>\n",
              "      <td>134.0</td>\n",
              "    </tr>\n",
              "    <tr>\n",
              "      <th>1991-01-02</th>\n",
              "      <td>330.200012</td>\n",
              "      <td>330.750000</td>\n",
              "      <td>326.450012</td>\n",
              "      <td>326.450012</td>\n",
              "      <td>126280000</td>\n",
              "      <td>321.910004</td>\n",
              "      <td>0</td>\n",
              "      <td>0.992533</td>\n",
              "      <td>3.0</td>\n",
              "      <td>0.992651</td>\n",
              "      <td>10.0</td>\n",
              "      <td>1.029774</td>\n",
              "      <td>32.0</td>\n",
              "      <td>1.007808</td>\n",
              "      <td>61.0</td>\n",
              "      <td>0.976670</td>\n",
              "      <td>134.0</td>\n",
              "    </tr>\n",
              "    <tr>\n",
              "      <th>1991-01-03</th>\n",
              "      <td>326.459991</td>\n",
              "      <td>326.529999</td>\n",
              "      <td>321.899994</td>\n",
              "      <td>321.910004</td>\n",
              "      <td>141450000</td>\n",
              "      <td>321.000000</td>\n",
              "      <td>0</td>\n",
              "      <td>0.984079</td>\n",
              "      <td>2.0</td>\n",
              "      <td>0.979507</td>\n",
              "      <td>9.0</td>\n",
              "      <td>1.015003</td>\n",
              "      <td>31.0</td>\n",
              "      <td>0.994955</td>\n",
              "      <td>60.0</td>\n",
              "      <td>0.963454</td>\n",
              "      <td>133.0</td>\n",
              "    </tr>\n",
              "    <tr>\n",
              "      <th>...</th>\n",
              "      <td>...</td>\n",
              "      <td>...</td>\n",
              "      <td>...</td>\n",
              "      <td>...</td>\n",
              "      <td>...</td>\n",
              "      <td>...</td>\n",
              "      <td>...</td>\n",
              "      <td>...</td>\n",
              "      <td>...</td>\n",
              "      <td>...</td>\n",
              "      <td>...</td>\n",
              "      <td>...</td>\n",
              "      <td>...</td>\n",
              "      <td>...</td>\n",
              "      <td>...</td>\n",
              "      <td>...</td>\n",
              "      <td>...</td>\n",
              "    </tr>\n",
              "    <tr>\n",
              "      <th>2022-08-23</th>\n",
              "      <td>4133.089844</td>\n",
              "      <td>4159.770020</td>\n",
              "      <td>4124.029785</td>\n",
              "      <td>4128.729980</td>\n",
              "      <td>3117800000</td>\n",
              "      <td>4140.770020</td>\n",
              "      <td>1</td>\n",
              "      <td>0.980557</td>\n",
              "      <td>1.0</td>\n",
              "      <td>0.988870</td>\n",
              "      <td>9.0</td>\n",
              "      <td>1.033558</td>\n",
              "      <td>27.0</td>\n",
              "      <td>0.998142</td>\n",
              "      <td>55.0</td>\n",
              "      <td>0.949793</td>\n",
              "      <td>121.0</td>\n",
              "    </tr>\n",
              "    <tr>\n",
              "      <th>2022-08-24</th>\n",
              "      <td>4126.549805</td>\n",
              "      <td>4156.560059</td>\n",
              "      <td>4119.970215</td>\n",
              "      <td>4140.770020</td>\n",
              "      <td>3056910000</td>\n",
              "      <td>4199.120117</td>\n",
              "      <td>1</td>\n",
              "      <td>0.989681</td>\n",
              "      <td>2.0</td>\n",
              "      <td>0.990365</td>\n",
              "      <td>9.0</td>\n",
              "      <td>1.036648</td>\n",
              "      <td>27.0</td>\n",
              "      <td>1.001502</td>\n",
              "      <td>56.0</td>\n",
              "      <td>0.952851</td>\n",
              "      <td>122.0</td>\n",
              "    </tr>\n",
              "    <tr>\n",
              "      <th>2022-08-25</th>\n",
              "      <td>4153.259766</td>\n",
              "      <td>4200.540039</td>\n",
              "      <td>4147.589844</td>\n",
              "      <td>4199.120117</td>\n",
              "      <td>2976050000</td>\n",
              "      <td>4057.659912</td>\n",
              "      <td>0</td>\n",
              "      <td>1.007704</td>\n",
              "      <td>2.0</td>\n",
              "      <td>1.002801</td>\n",
              "      <td>9.0</td>\n",
              "      <td>1.050962</td>\n",
              "      <td>28.0</td>\n",
              "      <td>1.015880</td>\n",
              "      <td>57.0</td>\n",
              "      <td>0.966555</td>\n",
              "      <td>122.0</td>\n",
              "    </tr>\n",
              "    <tr>\n",
              "      <th>2022-08-26</th>\n",
              "      <td>4198.740234</td>\n",
              "      <td>4203.040039</td>\n",
              "      <td>4057.659912</td>\n",
              "      <td>4057.659912</td>\n",
              "      <td>3175260000</td>\n",
              "      <td>4030.610107</td>\n",
              "      <td>0</td>\n",
              "      <td>0.981806</td>\n",
              "      <td>2.0</td>\n",
              "      <td>0.969860</td>\n",
              "      <td>8.0</td>\n",
              "      <td>1.015742</td>\n",
              "      <td>28.0</td>\n",
              "      <td>0.981941</td>\n",
              "      <td>57.0</td>\n",
              "      <td>0.934398</td>\n",
              "      <td>121.0</td>\n",
              "    </tr>\n",
              "    <tr>\n",
              "      <th>2022-08-29</th>\n",
              "      <td>4034.580078</td>\n",
              "      <td>4062.989990</td>\n",
              "      <td>4017.419922</td>\n",
              "      <td>4030.610107</td>\n",
              "      <td>2963020000</td>\n",
              "      <td>3986.159912</td>\n",
              "      <td>0</td>\n",
              "      <td>0.980355</td>\n",
              "      <td>2.0</td>\n",
              "      <td>0.964409</td>\n",
              "      <td>8.0</td>\n",
              "      <td>1.009587</td>\n",
              "      <td>27.0</td>\n",
              "      <td>0.975671</td>\n",
              "      <td>57.0</td>\n",
              "      <td>0.928590</td>\n",
              "      <td>121.0</td>\n",
              "    </tr>\n",
              "  </tbody>\n",
              "</table>\n",
              "<p>7979 rows × 17 columns</p>\n",
              "</div>"
            ],
            "text/plain": [
              "                   Open         High          Low        Close      Volume  \\\n",
              "Date                                                                         \n",
              "1990-12-27   330.850006   331.040009   328.230011   328.290009   102900000   \n",
              "1990-12-28   328.290009   328.720001   327.239990   328.720001   111030000   \n",
              "1990-12-31   328.709991   330.230011   327.500000   330.220001   114130000   \n",
              "1991-01-02   330.200012   330.750000   326.450012   326.450012   126280000   \n",
              "1991-01-03   326.459991   326.529999   321.899994   321.910004   141450000   \n",
              "...                 ...          ...          ...          ...         ...   \n",
              "2022-08-23  4133.089844  4159.770020  4124.029785  4128.729980  3117800000   \n",
              "2022-08-24  4126.549805  4156.560059  4119.970215  4140.770020  3056910000   \n",
              "2022-08-25  4153.259766  4200.540039  4147.589844  4199.120117  2976050000   \n",
              "2022-08-26  4198.740234  4203.040039  4057.659912  4057.659912  3175260000   \n",
              "2022-08-29  4034.580078  4062.989990  4017.419922  4030.610107  2963020000   \n",
              "\n",
              "               tomorrow  Target  Close_Ratio_5  Trend_5  Close_Ratio_20  \\\n",
              "Date                                                                      \n",
              "1990-12-27   328.720001       1       0.994270      2.0        1.001695   \n",
              "1990-12-28   330.220001       1       0.996417      3.0        1.001128   \n",
              "1990-12-31   326.450012       0       1.001893      3.0        1.004473   \n",
              "1991-01-02   321.910004       0       0.992533      3.0        0.992651   \n",
              "1991-01-03   321.000000       0       0.984079      2.0        0.979507   \n",
              "...                 ...     ...            ...      ...             ...   \n",
              "2022-08-23  4140.770020       1       0.980557      1.0        0.988870   \n",
              "2022-08-24  4199.120117       1       0.989681      2.0        0.990365   \n",
              "2022-08-25  4057.659912       0       1.007704      2.0        1.002801   \n",
              "2022-08-26  4030.610107       0       0.981806      2.0        0.969860   \n",
              "2022-08-29  3986.159912       0       0.980355      2.0        0.964409   \n",
              "\n",
              "            Trend_20  Close_Ratio_60  Trend_60  Close_Ratio_120  Trend_120  \\\n",
              "Date                                                                         \n",
              "1990-12-27      10.0        1.038297      31.0         1.010946       61.0   \n",
              "1990-12-28      11.0        1.038708      32.0         1.012992       62.0   \n",
              "1990-12-31      11.0        1.042486      32.0         1.018425       62.0   \n",
              "1991-01-02      10.0        1.029774      32.0         1.007808       61.0   \n",
              "1991-01-03       9.0        1.015003      31.0         0.994955       60.0   \n",
              "...              ...             ...       ...              ...        ...   \n",
              "2022-08-23       9.0        1.033558      27.0         0.998142       55.0   \n",
              "2022-08-24       9.0        1.036648      27.0         1.001502       56.0   \n",
              "2022-08-25       9.0        1.050962      28.0         1.015880       57.0   \n",
              "2022-08-26       8.0        1.015742      28.0         0.981941       57.0   \n",
              "2022-08-29       8.0        1.009587      27.0         0.975671       57.0   \n",
              "\n",
              "            Close_Ratio_250  Trend_250  \n",
              "Date                                    \n",
              "1990-12-27         0.981221      132.0  \n",
              "1990-12-28         0.982859      133.0  \n",
              "1990-12-31         0.987644      134.0  \n",
              "1991-01-02         0.976670      134.0  \n",
              "1991-01-03         0.963454      133.0  \n",
              "...                     ...        ...  \n",
              "2022-08-23         0.949793      121.0  \n",
              "2022-08-24         0.952851      122.0  \n",
              "2022-08-25         0.966555      122.0  \n",
              "2022-08-26         0.934398      121.0  \n",
              "2022-08-29         0.928590      121.0  \n",
              "\n",
              "[7979 rows x 17 columns]"
            ]
          },
          "execution_count": 99,
          "metadata": {},
          "output_type": "execute_result"
        }
      ],
      "source": [
        "## 移除帶na的列\n",
        "sp500 = sp500.dropna()\n",
        "sp500"
      ]
    },
    {
      "cell_type": "markdown",
      "id": "8f2a130f",
      "metadata": {
        "id": "8f2a130f"
      },
      "source": [
        "<h1>Improving Our Model</h1>"
      ]
    },
    {
      "cell_type": "markdown",
      "id": "26014fe8",
      "metadata": {
        "id": "26014fe8"
      },
      "source": [
        "- 稍微modify了predict function，讓它可依我們要的cutoff去分類\n",
        "  - 這個減少我們交易(預測上漲)的天數，但會增加這些天中預準上漲的準確度\n",
        "  - 這符合我們要的，因為我們不需要交易很多次，只要增加交易時真正上漲的準確度即可\n",
        "- 此處我們只用了new_predictors\n",
        "  - 這是因為open/low/high/close等，只是個數字，無法給我們的model什麼可預測的info，今日這個價格無法預測明日是漲是跌\n",
        "  - 而ratio才是重要的，今日價格相比於過去一段時期的價格為何"
      ]
    },
    {
      "cell_type": "code",
      "execution_count": null,
      "id": "7558bbfe",
      "metadata": {
        "id": "7558bbfe"
      },
      "outputs": [],
      "source": [
        "model = RandomForestClassifier(n_estimators=200, min_samples_split=50, random_state=1)"
      ]
    },
    {
      "cell_type": "code",
      "execution_count": null,
      "id": "d65562cf",
      "metadata": {
        "id": "d65562cf"
      },
      "outputs": [],
      "source": [
        "def predict(train, test, predictors, model):\n",
        "    model.fit(train[predictors], train[\"Target\"])\n",
        "    preds = model.predict_proba(test[predictors])[:,1]  \n",
        "    ## 回傳機率而非直接predict0,1 使我們有更多的control, 只需取得第2欄(預測為1的機率)\n",
        "    preds[ preds>=0.6 ] = 1    ## 我們要model有更多的信心(>=0.6)時再回傳1\n",
        "    preds[ preds < 0.6 ] = 0 \n",
        "    ## 這個減少我們交易(預測上漲)的天數，但會增加這些天中預準上漲的準確度\n",
        "    preds = pd.Series(preds, index=test.index, name=\"Predictions\")\n",
        "    combined = pd.concat([test[\"Target\"], preds], axis=1)\n",
        "    return combined"
      ]
    },
    {
      "cell_type": "code",
      "execution_count": null,
      "id": "c9a4762a",
      "metadata": {
        "id": "c9a4762a"
      },
      "outputs": [],
      "source": [
        "predictions = backtest(sp500, model, new_predictors)"
      ]
    },
    {
      "cell_type": "code",
      "execution_count": null,
      "id": "bfa9bdd3",
      "metadata": {
        "scrolled": true,
        "id": "bfa9bdd3",
        "outputId": "3e808a00-5707-4259-ee36-a64a82a05d80"
      },
      "outputs": [
        {
          "data": {
            "text/plain": [
              "1    3793\n",
              "0    1686\n",
              "Name: Predictions, dtype: int64"
            ]
          },
          "execution_count": 106,
          "metadata": {},
          "output_type": "execute_result"
        }
      ],
      "source": [
        "## 用舊的predict(cutoff= .5)\n",
        "predictions[\"Predictions\"].value_counts() "
      ]
    },
    {
      "cell_type": "code",
      "execution_count": null,
      "id": "76b4632d",
      "metadata": {
        "id": "76b4632d",
        "outputId": "d099635d-70c9-41db-ca89-5f374811c144"
      },
      "outputs": [
        {
          "data": {
            "text/plain": [
              "0.0    4698\n",
              "1.0     781\n",
              "Name: Predictions, dtype: int64"
            ]
          },
          "execution_count": 110,
          "metadata": {},
          "output_type": "execute_result"
        }
      ],
      "source": [
        "## 用新的predict(cutoff= .6)\n",
        "predictions[\"Predictions\"].value_counts() "
      ]
    },
    {
      "cell_type": "markdown",
      "id": "eeea98ee",
      "metadata": {
        "id": "eeea98ee"
      },
      "source": [
        "- 相較於先前的predict，新predict的預測上漲數明顯下降了，這是因為我們提高了預測為1的threshold"
      ]
    },
    {
      "cell_type": "code",
      "execution_count": null,
      "id": "a47615e6",
      "metadata": {
        "id": "a47615e6",
        "outputId": "bc2323ab-7df3-4d31-a075-1d6be7dd0066"
      },
      "outputs": [
        {
          "data": {
            "text/plain": [
              "0.5633802816901409"
            ]
          },
          "execution_count": 112,
          "metadata": {},
          "output_type": "execute_result"
        }
      ],
      "source": [
        "precision_score(predictions[\"Target\"], predictions[\"Predictions\"])"
      ]
    },
    {
      "cell_type": "markdown",
      "id": "97d06d8e",
      "metadata": {
        "id": "97d06d8e"
      },
      "source": [
        "<h1>Summary and Next Step</h1>"
      ]
    },
    {
      "cell_type": "markdown",
      "id": "cd28e124",
      "metadata": {
        "id": "cd28e124"
      },
      "source": [
        "- 有些交易所是全天的或者有某些index是在美股開巿之前交易的，可check這些index的漲跌，也許可找到與model有correlate的\n",
        "- 可加入新聞，如包含inflation、interest rate的經濟新聞\n",
        "- 加入sp500的key component，如某些sector可能會早於sp500 go down\n",
        "- 也可試著提高resolution，如:hourly/minute data等\n",
        "- 巿場寬度的漲跌天數?N日平均漲跌幅?"
      ]
    },
    {
      "cell_type": "markdown",
      "id": "23a4cade",
      "metadata": {
        "id": "23a4cade"
      },
      "source": []
    },
    {
      "cell_type": "code",
      "execution_count": null,
      "id": "2c892c4f",
      "metadata": {
        "id": "2c892c4f"
      },
      "outputs": [],
      "source": []
    }
  ],
  "metadata": {
    "kernelspec": {
      "display_name": "Python 3 (ipykernel)",
      "language": "python",
      "name": "python3"
    },
    "language_info": {
      "codemirror_mode": {
        "name": "ipython",
        "version": 3
      },
      "file_extension": ".py",
      "mimetype": "text/x-python",
      "name": "python",
      "nbconvert_exporter": "python",
      "pygments_lexer": "ipython3",
      "version": "3.9.7"
    },
    "toc": {
      "base_numbering": 1,
      "nav_menu": {},
      "number_sections": true,
      "sideBar": true,
      "skip_h1_title": false,
      "title_cell": "Table of Contents",
      "title_sidebar": "Contents",
      "toc_cell": false,
      "toc_position": {
        "height": "calc(100% - 180px)",
        "left": "10px",
        "top": "150px",
        "width": "187.309px"
      },
      "toc_section_display": true,
      "toc_window_display": true
    },
    "colab": {
      "provenance": []
    }
  },
  "nbformat": 4,
  "nbformat_minor": 5
}